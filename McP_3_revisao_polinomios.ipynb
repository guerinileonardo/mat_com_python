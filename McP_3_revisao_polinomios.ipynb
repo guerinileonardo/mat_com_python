{
  "cells": [
    {
      "cell_type": "markdown",
      "metadata": {
        "id": "SGPXXgdb5jas"
      },
      "source": [
        "# <center><u>**Revisão</u>: POLINÔMIOS**</center>\n",
        "\n",
        "<br>\n",
        "\n",
        "Na próxima aula, vamos falar de polinômios interpoladores e apresentar uma fórmula que permite construí-los: a **fórmula interpolatória de Lagrange**.\n",
        "\n",
        "<br>\n",
        "\n",
        "A fórmula se vale de propriedades de polinômios que passam por determinados pontos. Para entendê-la, vamos fazer uma pequena revisão sobre **polinômios** em geral.\n",
        "\n",
        "\n",
        "<br>\n",
        "\n",
        "***\n",
        "\n",
        "<br>"
      ]
    },
    {
      "cell_type": "markdown",
      "metadata": {
        "id": "2JcwxHMB5jau"
      },
      "source": [
        "## **Forma fatorada e raízes**\n",
        "<br>\n",
        "\n",
        "Existem duas formas de apresentar um polinômio $P(x)$ de grau $n$. Uma é a **forma geral**,\n",
        "\n",
        "$$\n",
        "P(x) = a_0 + a_1 x + \\ldots + a_nx^n,\n",
        "$$\n",
        "\n",
        "onde $a_0, a_1,\\ldots,a_n\\in\\mathbb R$ são os coeficientes. Outra é a **forma fatorada**,\n",
        "\n",
        "$$\n",
        "P(x) = P_0(x)P_1(x)\\ldots P_l(x),\n",
        "$$\n",
        "\n",
        "onde $P_0(x),P_1(x),\\ldots, P_l(x)$ são polinômios de grau $\\leq n$ que multiplicados resultam em $P(x)$.\n",
        "\n",
        "<br><br>\n",
        "\n",
        "> **A forma fatorada de um polinômio simplifica a tarefa de determinar as suas raízes, isto é, os valores $r$ tais que $P(r) = 0$.**\n",
        "\n",
        "<br><br>\n",
        "\n",
        "***\n",
        "\n",
        "<br><br>\n",
        "\n",
        "## **Exercício 1:**\n",
        "<br>\n",
        "\n",
        "Fixados $r_0, r_1 \\in \\mathbb R$, o polinômio\n",
        "\n",
        "$$\n",
        "P(x) = (x-r_0)(x-r_1)\n",
        "$$\n",
        "\n",
        "possui como raízes $x=r_0$ e $x=r_1$, pois\n",
        "\n",
        "$$\n",
        "P(r_0) = (r_0-r_0)(r_0-r_1) = 0\n",
        "$$\n",
        "\n",
        "e\n",
        "\n",
        "$$\n",
        "P(r_1) = (r_1-r_0)(r_1-r_1) = 0.\n",
        "$$\n",
        "\n",
        "<br>\n",
        "\n",
        "Verifiquemos isso substituindo valores arbitrários para $r_0, r_1$ na variável `r` abaixo e construindo os gráficos dos polinômios correspondentes."
      ]
    },
    {
      "cell_type": "code",
      "execution_count": null,
      "metadata": {
        "id": "CGEKzT715jav"
      },
      "outputs": [],
      "source": [
        "import numpy as np\n",
        "import matplotlib.pyplot as plt\n",
        "\n",
        "# definindo o tamanho dos gráficos\n",
        "plt.rcParams['figure.figsize'] = [12, 6]\n",
        "\n",
        "# insira dois valores entre -4 e 4, separados por vírgula, no array r abaixo\n",
        "r = np.array([ complete ])\n",
        "\n",
        "# comente\n",
        "print('Raízes: r0 =', r[0], ', r1 =', r[1])"
      ]
    },
    {
      "cell_type": "code",
      "source": [
        "# defina o polinômio na forma fatorada, com raízes r[0], r[1]\n",
        "def P1(x):\n",
        "    return complete\n",
        "\n",
        "# comente\n",
        "xi = np.linspace(-5, 5, 100)\n",
        "\n",
        "# plotando o gráfico de P1\n",
        "plt.plot(xi, P1(xi))\n",
        "\n",
        "# plotando as raízes r[0], r[1] como pontos vermelhos\n",
        "plt.plot(r, P1(r), 'o', color='red')\n",
        "\n",
        "# comente\n",
        "plt.ylim([-8, 8])\n",
        "\n",
        "# comente\n",
        "plt.grid()\n",
        "\n",
        "# comente\n",
        "plt.axhline(color='black')\n",
        "plt.axvline(color='black')\n",
        "\n",
        "# comente\n",
        "plt.show()"
      ],
      "metadata": {
        "id": "cloFBcOEvUnm"
      },
      "execution_count": null,
      "outputs": []
    },
    {
      "cell_type": "markdown",
      "metadata": {
        "id": "Ilw9wgh_5jax"
      },
      "source": [
        "<br>\n",
        "\n",
        "> Assim, podemos usar a forma fatorada para obter polinômios **com as raízes que desejarmos.**\n",
        "\n",
        "<br><br>\n",
        "\n",
        "***\n",
        "\n",
        "# **Alongamentos e compressões**\n",
        "\n",
        "<br>\n",
        "\n",
        "Note que se multiplicarmos o polinômio anterior por um número $k\\in\\mathbb R$ qualquer, o polinômio resultante,\n",
        "\n",
        "$$k(x-r_0)(x-r_1)$$\n",
        "\n",
        "segue tendo apenas $r_0, r_1$ como raízes, porém seu gráfico sofre um **alongamento** ou uma **compressão**, dependendo do valor de $k$."
      ]
    },
    {
      "cell_type": "code",
      "execution_count": null,
      "metadata": {
        "id": "8NREUXx45jay"
      },
      "outputs": [],
      "source": [
        "# definindo as raízes\n",
        "r = np.array([-1, 4])\n",
        "\n",
        "print('Raízes: r0 =', r[0], ', r1 =', r[1])\n",
        "\n",
        "# definindo o polinômio na forma fatorada, com raízes r[0], r[1]\n",
        "def P1(x):\n",
        "    return (x - r[0]) * (x - r[1])\n",
        "\n",
        "# comente\n",
        "xi = np.linspace(-5, 5, 100)\n",
        "\n",
        "# comente\n",
        "plt.plot(xi, P1(xi), linewidth=1.6, label='P1(x)')\n",
        "\n",
        "# comente\n",
        "plt.axhline(color='black')\n",
        "plt.axvline(color='black')\n",
        "\n",
        "# plotando k*P1, para alguns valores de k (modifique-os e veja o que acontece)\n",
        "for k in [ 3, -1, 0.5 ]:\n",
        "    plt.plot(xi, k*P1(xi), linewidth=0.8, label='%s*P1(x)' % k)\n",
        "\n",
        "# destacando as raízes como pontos vermelhos\n",
        "plt.plot(r, P1(r), 'o', color='red')\n",
        "plt.grid()\n",
        "plt.ylim([-8, 8])\n",
        "plt.legend()\n",
        "plt.show()"
      ]
    },
    {
      "cell_type": "markdown",
      "metadata": {
        "id": "xx7usU6C5jay"
      },
      "source": [
        "<br>\n",
        "\n",
        "> **Ajustando o valor de $k$, podemos alongar ou comprimir o gráfico do polinômio de modo que ele passe por um ponto específico $(x_0, y_0)$ dado de antemão.**\n",
        "\n",
        "<br><br>\n",
        "\n",
        "***\n",
        "\n",
        "<br><br>\n",
        "\n",
        "## **Exemplo 1:**\n",
        "<br>\n",
        "\n",
        "Vamos determinar o polinômio que tem raízes $r_0 = -1$ e $r_1 = 2$ e passa pelo ponto $(-3, 5)$.\n",
        "\n",
        "<br>\n",
        "\n",
        "Devido a suas raízes, sabemos que a forma do polinômio é\n",
        "$$P(x) = k(x-(-1))(x-2)$$\n",
        "$$\\quad = k(x+1)(x-2).$$\n",
        "\n",
        "<br>\n",
        "\n",
        "Para determinar $k$, usamos o fato que $P(-3) = 5$. Substituindo na expressão do polinômio,\n",
        "\n",
        "$$\n",
        "P(-3) = 5 \\quad\\quad \\implies \\quad\\quad k(-3+1)(-3-2) = 5 \\quad\\quad \\implies \\quad\\quad k = \\frac{5}{(-3+1)(-3-2)} = \\frac{1}{2}.\n",
        "$$\n",
        "\n",
        "Assim,\n",
        "\n",
        "$$\n",
        "P(x) = \\frac{1}{2}(x+1)(x-2).\n",
        "$$\n",
        "\n",
        "<br><br>\n",
        "\n",
        "***\n",
        "\n",
        "<br><br>\n",
        "\n",
        "## **Exercício 2:**\n",
        "<br>\n",
        "\n",
        "Defina computacionalmente o polinômio acima e plote seu gráfico, marcando com pontos vermelhos as raízes em $x=-1$ e $x=2$ e o ponto (-3, 5)."
      ]
    },
    {
      "cell_type": "code",
      "execution_count": null,
      "metadata": {
        "id": "0BNEq6-35jaz"
      },
      "outputs": [],
      "source": [
        "# resolva"
      ]
    },
    {
      "cell_type": "markdown",
      "metadata": {
        "id": "M58ORKv85ja0"
      },
      "source": [
        "<br>\n",
        "\n",
        "***\n",
        "\n",
        "<br>\n",
        "\n",
        "## **Exercício 3:**\n",
        "\n",
        "<br>\n",
        "\n",
        "(a) Utilizando papel e caneta, generalize o exemplo anterior e determine a fórmula do polinômio $Q(z)$ de grau 2 que tem raízes $r_0$ e $r_1$ e passa pelo ponto $(x_0, y_0)$:\n",
        "\n",
        "$$\n",
        "Q(z) = \\frac{complete-com-o-numerador}{complete-com-o-denominador}.\n",
        "$$"
      ]
    },
    {
      "cell_type": "markdown",
      "metadata": {
        "id": "-wI0wLXc5ja0"
      },
      "source": [
        "<br>\n",
        "\n",
        "(b) A seguir, complete e comente o código abaixo."
      ]
    },
    {
      "cell_type": "code",
      "execution_count": null,
      "metadata": {
        "id": "xjIz0g1r5ja1"
      },
      "outputs": [],
      "source": [
        "# insira valores para as raízes\n",
        "r = np.array([complete])\n",
        "\n",
        "# insira coordenadas de um ponto\n",
        "x0 = complete\n",
        "y0 = complete\n",
        "\n",
        "# definindo Q a partir de r[0], r[1], x0 e y0\n",
        "def Q(z):\n",
        "    return complete\n",
        "\n",
        "# comente\n",
        "zi = np.linspace(-5, 5, 100)\n",
        "\n",
        "# comente\n",
        "plt.plot(zi, Q(zi), '-')\n",
        "plt.plot(r, Q(r), 'o', color='red')\n",
        "plt.plot(x0, y0, 'o', color='red')\n",
        "plt.axhline(color='black')\n",
        "plt.axvline(color='black')\n",
        "plt.show()"
      ]
    },
    {
      "cell_type": "markdown",
      "metadata": {
        "id": "Zje2f9Iw5ja1"
      },
      "source": [
        "<br>\n",
        "\n",
        "(c) Verifique que a construção acima é genérica: modifique os valores em `r`, `x0` e `y0` e rode o código novamente, confirmando que o polinômio possui as raízes indicadas e passa pelo ponto indicado."
      ]
    }
  ],
  "metadata": {
    "kernelspec": {
      "display_name": "Python 3",
      "language": "python",
      "name": "python3"
    },
    "language_info": {
      "codemirror_mode": {
        "name": "ipython",
        "version": 3
      },
      "file_extension": ".py",
      "mimetype": "text/x-python",
      "name": "python",
      "nbconvert_exporter": "python",
      "pygments_lexer": "ipython3",
      "version": "3.7.4"
    },
    "colab": {
      "provenance": []
    }
  },
  "nbformat": 4,
  "nbformat_minor": 0
}